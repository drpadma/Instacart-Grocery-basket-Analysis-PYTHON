{
 "cells": [
  {
   "cell_type": "markdown",
   "id": "c7bed97f",
   "metadata": {},
   "source": [
    "#IMPORTING LIBRARIES"
   ]
  },
  {
   "cell_type": "code",
   "execution_count": 2,
   "id": "43925d7c",
   "metadata": {},
   "outputs": [],
   "source": [
    "#importing libraries\n",
    "import pandas as pd\n",
    "import numpy as np\n",
    "import os"
   ]
  },
  {
   "cell_type": "markdown",
   "id": "1dba3871",
   "metadata": {},
   "source": [
    "#PYTHON DATA TYPES"
   ]
  },
  {
   "cell_type": "markdown",
   "id": "8f663a1f",
   "metadata": {},
   "source": [
    "INTEGER"
   ]
  },
  {
   "cell_type": "code",
   "execution_count": 3,
   "id": "5d0fa299",
   "metadata": {},
   "outputs": [],
   "source": [
    "a=50"
   ]
  },
  {
   "cell_type": "code",
   "execution_count": 4,
   "id": "f3e1892f",
   "metadata": {},
   "outputs": [],
   "source": [
    "b=50"
   ]
  },
  {
   "cell_type": "code",
   "execution_count": 5,
   "id": "d0401b6e",
   "metadata": {},
   "outputs": [
    {
     "data": {
      "text/plain": [
       "100"
      ]
     },
     "execution_count": 5,
     "metadata": {},
     "output_type": "execute_result"
    }
   ],
   "source": [
    "a+b"
   ]
  },
  {
   "cell_type": "code",
   "execution_count": 6,
   "id": "b5cf2bb9",
   "metadata": {},
   "outputs": [],
   "source": [
    "a=a+6"
   ]
  },
  {
   "cell_type": "code",
   "execution_count": 7,
   "id": "710f2031",
   "metadata": {},
   "outputs": [],
   "source": [
    "b=b-6"
   ]
  },
  {
   "cell_type": "code",
   "execution_count": 8,
   "id": "c4fed2df",
   "metadata": {},
   "outputs": [
    {
     "data": {
      "text/plain": [
       "100"
      ]
     },
     "execution_count": 8,
     "metadata": {},
     "output_type": "execute_result"
    }
   ],
   "source": [
    "a+b"
   ]
  },
  {
   "cell_type": "code",
   "execution_count": 9,
   "id": "946a737b",
   "metadata": {},
   "outputs": [],
   "source": [
    "c=150"
   ]
  },
  {
   "cell_type": "code",
   "execution_count": 10,
   "id": "5d363a1c",
   "metadata": {},
   "outputs": [],
   "source": [
    "d=50"
   ]
  },
  {
   "cell_type": "code",
   "execution_count": 11,
   "id": "5385ac3b",
   "metadata": {},
   "outputs": [
    {
     "data": {
      "text/plain": [
       "100"
      ]
     },
     "execution_count": 11,
     "metadata": {},
     "output_type": "execute_result"
    }
   ],
   "source": [
    "c-d"
   ]
  },
  {
   "cell_type": "code",
   "execution_count": 12,
   "id": "c48e4865",
   "metadata": {},
   "outputs": [
    {
     "name": "stdout",
     "output_type": "stream",
     "text": [
      "56 44 150 50\n"
     ]
    }
   ],
   "source": [
    "print(a,b,c,d)"
   ]
  },
  {
   "cell_type": "code",
   "execution_count": 16,
   "id": "09ec5641",
   "metadata": {},
   "outputs": [
    {
     "data": {
      "text/plain": [
       "int"
      ]
     },
     "execution_count": 16,
     "metadata": {},
     "output_type": "execute_result"
    }
   ],
   "source": [
    "type(a)"
   ]
  },
  {
   "cell_type": "markdown",
   "id": "bfec3a05",
   "metadata": {},
   "source": [
    "#floating-point-number"
   ]
  },
  {
   "cell_type": "code",
   "execution_count": 17,
   "id": "70e03fb4",
   "metadata": {},
   "outputs": [],
   "source": [
    "c=c-2.27"
   ]
  },
  {
   "cell_type": "code",
   "execution_count": 18,
   "id": "d77912d5",
   "metadata": {},
   "outputs": [],
   "source": [
    "d=d+5.57"
   ]
  },
  {
   "cell_type": "code",
   "execution_count": 19,
   "id": "83f1c196",
   "metadata": {},
   "outputs": [
    {
     "data": {
      "text/plain": [
       "2.658448803311139"
      ]
     },
     "execution_count": 19,
     "metadata": {},
     "output_type": "execute_result"
    }
   ],
   "source": [
    "c/d"
   ]
  },
  {
   "cell_type": "code",
   "execution_count": 20,
   "id": "96abafc3",
   "metadata": {},
   "outputs": [],
   "source": [
    "e=5.2"
   ]
  },
  {
   "cell_type": "code",
   "execution_count": 21,
   "id": "f8167afd",
   "metadata": {},
   "outputs": [],
   "source": [
    "f=2.7"
   ]
  },
  {
   "cell_type": "code",
   "execution_count": 22,
   "id": "68f37506",
   "metadata": {},
   "outputs": [
    {
     "data": {
      "text/plain": [
       "1.9259259259259258"
      ]
     },
     "execution_count": 22,
     "metadata": {},
     "output_type": "execute_result"
    }
   ],
   "source": [
    "e/f"
   ]
  },
  {
   "cell_type": "code",
   "execution_count": 24,
   "id": "6c298a77",
   "metadata": {},
   "outputs": [
    {
     "data": {
      "text/plain": [
       "float"
      ]
     },
     "execution_count": 24,
     "metadata": {},
     "output_type": "execute_result"
    }
   ],
   "source": [
    "type(e)"
   ]
  },
  {
   "cell_type": "code",
   "execution_count": 25,
   "id": "12697176",
   "metadata": {},
   "outputs": [
    {
     "name": "stdout",
     "output_type": "stream",
     "text": [
      "147.73 55.57 5.2 2.7\n"
     ]
    }
   ],
   "source": [
    "print(c,d,e,f)"
   ]
  },
  {
   "cell_type": "markdown",
   "id": "452b8f52",
   "metadata": {},
   "source": [
    "#strings"
   ]
  },
  {
   "cell_type": "code",
   "execution_count": 34,
   "id": "5c99af8d",
   "metadata": {},
   "outputs": [],
   "source": [
    "g='hello '"
   ]
  },
  {
   "cell_type": "code",
   "execution_count": 40,
   "id": "10cdbc49",
   "metadata": {},
   "outputs": [],
   "source": [
    "h='world'"
   ]
  },
  {
   "cell_type": "code",
   "execution_count": 41,
   "id": "f27ac529",
   "metadata": {},
   "outputs": [
    {
     "data": {
      "text/plain": [
       "'hello world'"
      ]
     },
     "execution_count": 41,
     "metadata": {},
     "output_type": "execute_result"
    }
   ],
   "source": [
    "g+h"
   ]
  },
  {
   "cell_type": "code",
   "execution_count": 37,
   "id": "6435ef0a",
   "metadata": {},
   "outputs": [],
   "source": [
    "i=' its'"
   ]
  },
  {
   "cell_type": "code",
   "execution_count": 38,
   "id": "d8384ca4",
   "metadata": {},
   "outputs": [],
   "source": [
    "j=' padma'"
   ]
  },
  {
   "cell_type": "code",
   "execution_count": 42,
   "id": "48d7862a",
   "metadata": {},
   "outputs": [
    {
     "data": {
      "text/plain": [
       "'hello world its padma'"
      ]
     },
     "execution_count": 42,
     "metadata": {},
     "output_type": "execute_result"
    }
   ],
   "source": [
    "g+h+i+j"
   ]
  },
  {
   "cell_type": "code",
   "execution_count": 43,
   "id": "a2637464",
   "metadata": {},
   "outputs": [],
   "source": [
    "k=\"live \""
   ]
  },
  {
   "cell_type": "code",
   "execution_count": 44,
   "id": "4d0afd4e",
   "metadata": {},
   "outputs": [],
   "source": [
    "l=\"life\""
   ]
  },
  {
   "cell_type": "code",
   "execution_count": 50,
   "id": "69a8b9ee",
   "metadata": {},
   "outputs": [],
   "source": [
    "m=\" to the\""
   ]
  },
  {
   "cell_type": "code",
   "execution_count": 48,
   "id": "642114b6",
   "metadata": {},
   "outputs": [],
   "source": [
    "n=\" fullest\""
   ]
  },
  {
   "cell_type": "code",
   "execution_count": 51,
   "id": "e1c55d04",
   "metadata": {},
   "outputs": [
    {
     "data": {
      "text/plain": [
       "'live life to the fullest'"
      ]
     },
     "execution_count": 51,
     "metadata": {},
     "output_type": "execute_result"
    }
   ],
   "source": [
    "k+l+m+n"
   ]
  },
  {
   "cell_type": "code",
   "execution_count": 52,
   "id": "836aeb98",
   "metadata": {},
   "outputs": [
    {
     "data": {
      "text/plain": [
       "str"
      ]
     },
     "execution_count": 52,
     "metadata": {},
     "output_type": "execute_result"
    }
   ],
   "source": [
    "type(k)"
   ]
  },
  {
   "cell_type": "markdown",
   "id": "bb2801fc",
   "metadata": {},
   "source": [
    "#Bonus`"
   ]
  },
  {
   "cell_type": "code",
   "execution_count": 53,
   "id": "032ecc72",
   "metadata": {},
   "outputs": [
    {
     "data": {
      "text/plain": [
       "'live live live live live live live live live live live live live live live live live live live live live live live live live live live live live live live live live live live live live live live live live live live live live live live live live live live live live live live live live live live live live live live live live live live live live live live live live live live live live live live live live live live live live live live live live live live live live live live live live live live live '"
      ]
     },
     "execution_count": 53,
     "metadata": {},
     "output_type": "execute_result"
    }
   ],
   "source": [
    "k*100"
   ]
  }
 ],
 "metadata": {
  "kernelspec": {
   "display_name": "Python 3 (ipykernel)",
   "language": "python",
   "name": "python3"
  },
  "language_info": {
   "codemirror_mode": {
    "name": "ipython",
    "version": 3
   },
   "file_extension": ".py",
   "mimetype": "text/x-python",
   "name": "python",
   "nbconvert_exporter": "python",
   "pygments_lexer": "ipython3",
   "version": "3.10.9"
  }
 },
 "nbformat": 4,
 "nbformat_minor": 5
}
