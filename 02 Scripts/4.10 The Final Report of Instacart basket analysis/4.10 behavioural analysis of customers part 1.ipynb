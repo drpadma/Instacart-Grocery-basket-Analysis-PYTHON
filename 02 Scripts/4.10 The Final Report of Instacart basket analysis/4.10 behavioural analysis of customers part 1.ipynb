{
 "cells": [
  {
   "cell_type": "code",
   "execution_count": 1,
   "id": "a5481f8f",
   "metadata": {},
   "outputs": [],
   "source": [
    "#Importing Libraries\n",
    "import pandas as pd\n",
    "import numpy as np\n",
    "import os\n",
    "import matplotlib.pyplot as plt\n",
    "import seaborn as sns\n",
    "import scipy"
   ]
  },
  {
   "cell_type": "code",
   "execution_count": 2,
   "id": "03e7c3b3",
   "metadata": {},
   "outputs": [],
   "source": [
    "path = r\"C:\\Users\\harip\\Instacart Basket Analysis\""
   ]
  },
  {
   "cell_type": "code",
   "execution_count": 3,
   "id": "80256560",
   "metadata": {},
   "outputs": [],
   "source": [
    "# Import Customers_orders_merged\n",
    "df = pd.read_pickle(os.path.join(path,'02 Data', 'Prepared Data','customers_orders_merged.pkl'))"
   ]
  },
  {
   "cell_type": "code",
   "execution_count": 4,
   "id": "8c39ee28",
   "metadata": {},
   "outputs": [
    {
     "data": {
      "text/plain": [
       "(32404859, 34)"
      ]
     },
     "execution_count": 4,
     "metadata": {},
     "output_type": "execute_result"
    }
   ],
   "source": [
    "#Conducting the basic analysis\n",
    "df.shape"
   ]
  },
  {
   "cell_type": "code",
   "execution_count": 5,
   "id": "40adebaa",
   "metadata": {},
   "outputs": [
    {
     "data": {
      "text/plain": [
       "Index(['product_id', 'product_name', 'aisle_id', 'department_id', 'prices',\n",
       "       'order_id', 'user_id', 'order_number', 'orders_day_of_week',\n",
       "       'orders_timing_in_day', 'days_since_prior_order', 'add_to_cart_order',\n",
       "       'reordered', '_merge', ' price_range_loc', 'price_range_loc',\n",
       "       'busiest_day', 'Busiest_days', 'Busiest_period_of_day', 'max_order',\n",
       "       'loyalty_flag', 'average_price', 'spending_flag',\n",
       "       'median_days_prior_order', 'frequency_flag', 'First Name', 'Last Name',\n",
       "       'Gender', 'State', 'Age', 'date_joined', 'No of dependants',\n",
       "       'fam_status', 'income'],\n",
       "      dtype='object')"
      ]
     },
     "execution_count": 5,
     "metadata": {},
     "output_type": "execute_result"
    }
   ],
   "source": [
    "df.columns"
   ]
  },
  {
   "cell_type": "code",
   "execution_count": 6,
   "id": "f4fed837",
   "metadata": {},
   "outputs": [
    {
     "name": "stdout",
     "output_type": "stream",
     "text": [
      "<class 'pandas.core.frame.DataFrame'>\n",
      "Int64Index: 32404859 entries, 0 to 32404858\n",
      "Data columns (total 34 columns):\n",
      " #   Column                   Dtype   \n",
      "---  ------                   -----   \n",
      " 0   product_id               int64   \n",
      " 1   product_name             object  \n",
      " 2   aisle_id                 int64   \n",
      " 3   department_id            int64   \n",
      " 4   prices                   float64 \n",
      " 5   order_id                 int64   \n",
      " 6   user_id                  int64   \n",
      " 7   order_number             int64   \n",
      " 8   orders_day_of_week       int64   \n",
      " 9   orders_timing_in_day     int64   \n",
      " 10  days_since_prior_order   float64 \n",
      " 11  add_to_cart_order        int64   \n",
      " 12  reordered                int64   \n",
      " 13  _merge                   category\n",
      " 14   price_range_loc         object  \n",
      " 15  price_range_loc          object  \n",
      " 16  busiest_day              object  \n",
      " 17  Busiest_days             object  \n",
      " 18  Busiest_period_of_day    object  \n",
      " 19  max_order                int64   \n",
      " 20  loyalty_flag             object  \n",
      " 21  average_price            float64 \n",
      " 22  spending_flag            object  \n",
      " 23  median_days_prior_order  float64 \n",
      " 24  frequency_flag           object  \n",
      " 25  First Name               object  \n",
      " 26  Last Name                object  \n",
      " 27  Gender                   object  \n",
      " 28  State                    object  \n",
      " 29  Age                      int64   \n",
      " 30  date_joined              object  \n",
      " 31  No of dependants         int64   \n",
      " 32  fam_status               object  \n",
      " 33  income                   int64   \n",
      "dtypes: category(1), float64(4), int64(14), object(15)\n",
      "memory usage: 8.2+ GB\n"
     ]
    }
   ],
   "source": [
    "df.info()"
   ]
  },
  {
   "cell_type": "markdown",
   "id": "d1698885",
   "metadata": {},
   "source": [
    "# Step 2: Addressing the PII "
   ]
  },
  {
   "cell_type": "code",
   "execution_count": 7,
   "id": "c58e2c4d",
   "metadata": {},
   "outputs": [
    {
     "data": {
      "text/plain": [
       "Index(['product_id', 'product_name', 'aisle_id', 'department_id', 'prices',\n",
       "       'order_id', 'user_id', 'order_number', 'orders_day_of_week',\n",
       "       'orders_timing_in_day', 'days_since_prior_order', 'add_to_cart_order',\n",
       "       'reordered', '_merge', ' price_range_loc', 'price_range_loc',\n",
       "       'busiest_day', 'Busiest_days', 'Busiest_period_of_day', 'max_order',\n",
       "       'loyalty_flag', 'average_price', 'spending_flag',\n",
       "       'median_days_prior_order', 'frequency_flag', 'First Name', 'Last Name',\n",
       "       'Gender', 'State', 'Age', 'date_joined', 'No of dependants',\n",
       "       'fam_status', 'income'],\n",
       "      dtype='object')"
      ]
     },
     "execution_count": 7,
     "metadata": {},
     "output_type": "execute_result"
    }
   ],
   "source": [
    "df.columns"
   ]
  },
  {
   "cell_type": "markdown",
   "id": "639e0732",
   "metadata": {},
   "source": [
    "Addressing PII data security by removing the first name and the last name columns in the dataframe. This makes the data confidential and more accessible to share it other officials."
   ]
  },
  {
   "cell_type": "code",
   "execution_count": 8,
   "id": "04c28241",
   "metadata": {},
   "outputs": [],
   "source": [
    "#Removing both \"first and last name\" columns\n",
    "df.drop(['First Name','Last Name'], axis=1 , inplace = True)"
   ]
  },
  {
   "cell_type": "code",
   "execution_count": 9,
   "id": "04b6e05a",
   "metadata": {},
   "outputs": [
    {
     "data": {
      "text/html": [
       "<div>\n",
       "<style scoped>\n",
       "    .dataframe tbody tr th:only-of-type {\n",
       "        vertical-align: middle;\n",
       "    }\n",
       "\n",
       "    .dataframe tbody tr th {\n",
       "        vertical-align: top;\n",
       "    }\n",
       "\n",
       "    .dataframe thead th {\n",
       "        text-align: right;\n",
       "    }\n",
       "</style>\n",
       "<table border=\"1\" class=\"dataframe\">\n",
       "  <thead>\n",
       "    <tr style=\"text-align: right;\">\n",
       "      <th></th>\n",
       "      <th>product_id</th>\n",
       "      <th>product_name</th>\n",
       "      <th>aisle_id</th>\n",
       "      <th>department_id</th>\n",
       "      <th>prices</th>\n",
       "      <th>order_id</th>\n",
       "      <th>user_id</th>\n",
       "      <th>order_number</th>\n",
       "      <th>orders_day_of_week</th>\n",
       "      <th>orders_timing_in_day</th>\n",
       "      <th>...</th>\n",
       "      <th>spending_flag</th>\n",
       "      <th>median_days_prior_order</th>\n",
       "      <th>frequency_flag</th>\n",
       "      <th>Gender</th>\n",
       "      <th>State</th>\n",
       "      <th>Age</th>\n",
       "      <th>date_joined</th>\n",
       "      <th>No of dependants</th>\n",
       "      <th>fam_status</th>\n",
       "      <th>income</th>\n",
       "    </tr>\n",
       "  </thead>\n",
       "  <tbody>\n",
       "    <tr>\n",
       "      <th>0</th>\n",
       "      <td>1</td>\n",
       "      <td>Chocolate Sandwich Cookies</td>\n",
       "      <td>61</td>\n",
       "      <td>19</td>\n",
       "      <td>5.8</td>\n",
       "      <td>3139998</td>\n",
       "      <td>138</td>\n",
       "      <td>28</td>\n",
       "      <td>6</td>\n",
       "      <td>11</td>\n",
       "      <td>...</td>\n",
       "      <td>High spender</td>\n",
       "      <td>30.0</td>\n",
       "      <td>Non frequent customer</td>\n",
       "      <td>Male</td>\n",
       "      <td>Minnesota</td>\n",
       "      <td>81</td>\n",
       "      <td>8/1/2019</td>\n",
       "      <td>1</td>\n",
       "      <td>married</td>\n",
       "      <td>49620</td>\n",
       "    </tr>\n",
       "    <tr>\n",
       "      <th>1</th>\n",
       "      <td>1</td>\n",
       "      <td>Chocolate Sandwich Cookies</td>\n",
       "      <td>61</td>\n",
       "      <td>19</td>\n",
       "      <td>5.8</td>\n",
       "      <td>1977647</td>\n",
       "      <td>138</td>\n",
       "      <td>30</td>\n",
       "      <td>6</td>\n",
       "      <td>17</td>\n",
       "      <td>...</td>\n",
       "      <td>High spender</td>\n",
       "      <td>30.0</td>\n",
       "      <td>Non frequent customer</td>\n",
       "      <td>Male</td>\n",
       "      <td>Minnesota</td>\n",
       "      <td>81</td>\n",
       "      <td>8/1/2019</td>\n",
       "      <td>1</td>\n",
       "      <td>married</td>\n",
       "      <td>49620</td>\n",
       "    </tr>\n",
       "    <tr>\n",
       "      <th>2</th>\n",
       "      <td>907</td>\n",
       "      <td>Premium Sliced Bacon</td>\n",
       "      <td>106</td>\n",
       "      <td>12</td>\n",
       "      <td>20.0</td>\n",
       "      <td>3160996</td>\n",
       "      <td>138</td>\n",
       "      <td>1</td>\n",
       "      <td>5</td>\n",
       "      <td>13</td>\n",
       "      <td>...</td>\n",
       "      <td>High spender</td>\n",
       "      <td>30.0</td>\n",
       "      <td>Non frequent customer</td>\n",
       "      <td>Male</td>\n",
       "      <td>Minnesota</td>\n",
       "      <td>81</td>\n",
       "      <td>8/1/2019</td>\n",
       "      <td>1</td>\n",
       "      <td>married</td>\n",
       "      <td>49620</td>\n",
       "    </tr>\n",
       "    <tr>\n",
       "      <th>3</th>\n",
       "      <td>907</td>\n",
       "      <td>Premium Sliced Bacon</td>\n",
       "      <td>106</td>\n",
       "      <td>12</td>\n",
       "      <td>20.0</td>\n",
       "      <td>2254091</td>\n",
       "      <td>138</td>\n",
       "      <td>10</td>\n",
       "      <td>5</td>\n",
       "      <td>14</td>\n",
       "      <td>...</td>\n",
       "      <td>High spender</td>\n",
       "      <td>30.0</td>\n",
       "      <td>Non frequent customer</td>\n",
       "      <td>Male</td>\n",
       "      <td>Minnesota</td>\n",
       "      <td>81</td>\n",
       "      <td>8/1/2019</td>\n",
       "      <td>1</td>\n",
       "      <td>married</td>\n",
       "      <td>49620</td>\n",
       "    </tr>\n",
       "    <tr>\n",
       "      <th>4</th>\n",
       "      <td>1000</td>\n",
       "      <td>Apricots</td>\n",
       "      <td>18</td>\n",
       "      <td>10</td>\n",
       "      <td>12.9</td>\n",
       "      <td>505689</td>\n",
       "      <td>138</td>\n",
       "      <td>9</td>\n",
       "      <td>6</td>\n",
       "      <td>12</td>\n",
       "      <td>...</td>\n",
       "      <td>High spender</td>\n",
       "      <td>30.0</td>\n",
       "      <td>Non frequent customer</td>\n",
       "      <td>Male</td>\n",
       "      <td>Minnesota</td>\n",
       "      <td>81</td>\n",
       "      <td>8/1/2019</td>\n",
       "      <td>1</td>\n",
       "      <td>married</td>\n",
       "      <td>49620</td>\n",
       "    </tr>\n",
       "  </tbody>\n",
       "</table>\n",
       "<p>5 rows × 32 columns</p>\n",
       "</div>"
      ],
      "text/plain": [
       "   product_id                product_name  aisle_id  department_id  prices  \\\n",
       "0           1  Chocolate Sandwich Cookies        61             19     5.8   \n",
       "1           1  Chocolate Sandwich Cookies        61             19     5.8   \n",
       "2         907        Premium Sliced Bacon       106             12    20.0   \n",
       "3         907        Premium Sliced Bacon       106             12    20.0   \n",
       "4        1000                    Apricots        18             10    12.9   \n",
       "\n",
       "   order_id  user_id  order_number  orders_day_of_week  orders_timing_in_day  \\\n",
       "0   3139998      138            28                   6                    11   \n",
       "1   1977647      138            30                   6                    17   \n",
       "2   3160996      138             1                   5                    13   \n",
       "3   2254091      138            10                   5                    14   \n",
       "4    505689      138             9                   6                    12   \n",
       "\n",
       "   ...  spending_flag  median_days_prior_order         frequency_flag Gender  \\\n",
       "0  ...   High spender                     30.0  Non frequent customer   Male   \n",
       "1  ...   High spender                     30.0  Non frequent customer   Male   \n",
       "2  ...   High spender                     30.0  Non frequent customer   Male   \n",
       "3  ...   High spender                     30.0  Non frequent customer   Male   \n",
       "4  ...   High spender                     30.0  Non frequent customer   Male   \n",
       "\n",
       "       State Age date_joined No of dependants fam_status  income  \n",
       "0  Minnesota  81    8/1/2019                1    married   49620  \n",
       "1  Minnesota  81    8/1/2019                1    married   49620  \n",
       "2  Minnesota  81    8/1/2019                1    married   49620  \n",
       "3  Minnesota  81    8/1/2019                1    married   49620  \n",
       "4  Minnesota  81    8/1/2019                1    married   49620  \n",
       "\n",
       "[5 rows x 32 columns]"
      ]
     },
     "execution_count": 9,
     "metadata": {},
     "output_type": "execute_result"
    }
   ],
   "source": [
    "df.head()"
   ]
  },
  {
   "cell_type": "markdown",
   "id": "9b132cd6",
   "metadata": {},
   "source": [
    "# Step 3: Customer behavior in different geographic areas"
   ]
  },
  {
   "cell_type": "code",
   "execution_count": 10,
   "id": "71c484bb",
   "metadata": {},
   "outputs": [],
   "source": [
    "#Categorizing states based on Regions\n",
    "Northeast = ['Maine', 'New Hampshire', 'Vermont', 'Massachusetts', 'Rhode Island', 'Connecticut', 'New York', 'Pennsylvania', 'New Jersey']\n",
    "Midwest = ['Wisconsin', 'Michigan', 'Illinois', 'Indiana', 'Ohio', 'North Dakota', 'South Dakota', 'Nebraska', 'Kansas', 'Minnesota', 'Iowa', 'Missouri']\n",
    "South = ['Delaware', 'Maryland', 'District of Columbia', 'Virginia', 'West Virginia', 'North Carolina', 'South Carolina', 'Georgia', 'Florida', 'Kentucky', 'Tennessee', 'Mississippi', 'Alabama', 'Oklahoma', 'Texas', 'Arkansas', 'Louisiana']\n",
    "West = ['Idaho', 'Montana', 'Wyoming', 'Nevada', 'Utah', 'Colorado', 'Arizona', 'New Mexico', 'Alaska', 'Washington', 'Oregon', 'California', 'Hawaii']"
   ]
  },
  {
   "cell_type": "code",
   "execution_count": 11,
   "id": "d790fd11",
   "metadata": {},
   "outputs": [],
   "source": [
    "# Creating the regions using loc function\n",
    "# use the loc function to assign region based on states in 'State' column\n",
    "df.loc[df['State'].isin(Northeast), 'Region'] = 'Northeast'\n",
    "df.loc[df['State'].isin(Midwest), 'Region'] = 'Midwest'\n",
    "df.loc[df['State'].isin(South), 'Region'] = 'South'\n",
    "df.loc[df['State'].isin(West), 'Region'] = 'West'"
   ]
  },
  {
   "cell_type": "code",
   "execution_count": 12,
   "id": "cf899805",
   "metadata": {},
   "outputs": [
    {
     "data": {
      "text/plain": [
       "South        10791885\n",
       "West          8292913\n",
       "Midwest       7597325\n",
       "Northeast     5722736\n",
       "Name: Region, dtype: int64"
      ]
     },
     "execution_count": 12,
     "metadata": {},
     "output_type": "execute_result"
    }
   ],
   "source": [
    "#Checking the variables\n",
    "df['Region'].value_counts(dropna = False)"
   ]
  },
  {
   "cell_type": "code",
   "execution_count": 13,
   "id": "3f808369",
   "metadata": {},
   "outputs": [
    {
     "data": {
      "text/html": [
       "<div>\n",
       "<style scoped>\n",
       "    .dataframe tbody tr th:only-of-type {\n",
       "        vertical-align: middle;\n",
       "    }\n",
       "\n",
       "    .dataframe tbody tr th {\n",
       "        vertical-align: top;\n",
       "    }\n",
       "\n",
       "    .dataframe thead th {\n",
       "        text-align: right;\n",
       "    }\n",
       "</style>\n",
       "<table border=\"1\" class=\"dataframe\">\n",
       "  <thead>\n",
       "    <tr style=\"text-align: right;\">\n",
       "      <th></th>\n",
       "      <th>product_id</th>\n",
       "      <th>product_name</th>\n",
       "      <th>aisle_id</th>\n",
       "      <th>department_id</th>\n",
       "      <th>prices</th>\n",
       "      <th>order_id</th>\n",
       "      <th>user_id</th>\n",
       "      <th>order_number</th>\n",
       "      <th>orders_day_of_week</th>\n",
       "      <th>orders_timing_in_day</th>\n",
       "      <th>...</th>\n",
       "      <th>median_days_prior_order</th>\n",
       "      <th>frequency_flag</th>\n",
       "      <th>Gender</th>\n",
       "      <th>State</th>\n",
       "      <th>Age</th>\n",
       "      <th>date_joined</th>\n",
       "      <th>No of dependants</th>\n",
       "      <th>fam_status</th>\n",
       "      <th>income</th>\n",
       "      <th>Region</th>\n",
       "    </tr>\n",
       "  </thead>\n",
       "  <tbody>\n",
       "    <tr>\n",
       "      <th>0</th>\n",
       "      <td>1</td>\n",
       "      <td>Chocolate Sandwich Cookies</td>\n",
       "      <td>61</td>\n",
       "      <td>19</td>\n",
       "      <td>5.8</td>\n",
       "      <td>3139998</td>\n",
       "      <td>138</td>\n",
       "      <td>28</td>\n",
       "      <td>6</td>\n",
       "      <td>11</td>\n",
       "      <td>...</td>\n",
       "      <td>30.0</td>\n",
       "      <td>Non frequent customer</td>\n",
       "      <td>Male</td>\n",
       "      <td>Minnesota</td>\n",
       "      <td>81</td>\n",
       "      <td>8/1/2019</td>\n",
       "      <td>1</td>\n",
       "      <td>married</td>\n",
       "      <td>49620</td>\n",
       "      <td>Midwest</td>\n",
       "    </tr>\n",
       "    <tr>\n",
       "      <th>1</th>\n",
       "      <td>1</td>\n",
       "      <td>Chocolate Sandwich Cookies</td>\n",
       "      <td>61</td>\n",
       "      <td>19</td>\n",
       "      <td>5.8</td>\n",
       "      <td>1977647</td>\n",
       "      <td>138</td>\n",
       "      <td>30</td>\n",
       "      <td>6</td>\n",
       "      <td>17</td>\n",
       "      <td>...</td>\n",
       "      <td>30.0</td>\n",
       "      <td>Non frequent customer</td>\n",
       "      <td>Male</td>\n",
       "      <td>Minnesota</td>\n",
       "      <td>81</td>\n",
       "      <td>8/1/2019</td>\n",
       "      <td>1</td>\n",
       "      <td>married</td>\n",
       "      <td>49620</td>\n",
       "      <td>Midwest</td>\n",
       "    </tr>\n",
       "    <tr>\n",
       "      <th>2</th>\n",
       "      <td>907</td>\n",
       "      <td>Premium Sliced Bacon</td>\n",
       "      <td>106</td>\n",
       "      <td>12</td>\n",
       "      <td>20.0</td>\n",
       "      <td>3160996</td>\n",
       "      <td>138</td>\n",
       "      <td>1</td>\n",
       "      <td>5</td>\n",
       "      <td>13</td>\n",
       "      <td>...</td>\n",
       "      <td>30.0</td>\n",
       "      <td>Non frequent customer</td>\n",
       "      <td>Male</td>\n",
       "      <td>Minnesota</td>\n",
       "      <td>81</td>\n",
       "      <td>8/1/2019</td>\n",
       "      <td>1</td>\n",
       "      <td>married</td>\n",
       "      <td>49620</td>\n",
       "      <td>Midwest</td>\n",
       "    </tr>\n",
       "    <tr>\n",
       "      <th>3</th>\n",
       "      <td>907</td>\n",
       "      <td>Premium Sliced Bacon</td>\n",
       "      <td>106</td>\n",
       "      <td>12</td>\n",
       "      <td>20.0</td>\n",
       "      <td>2254091</td>\n",
       "      <td>138</td>\n",
       "      <td>10</td>\n",
       "      <td>5</td>\n",
       "      <td>14</td>\n",
       "      <td>...</td>\n",
       "      <td>30.0</td>\n",
       "      <td>Non frequent customer</td>\n",
       "      <td>Male</td>\n",
       "      <td>Minnesota</td>\n",
       "      <td>81</td>\n",
       "      <td>8/1/2019</td>\n",
       "      <td>1</td>\n",
       "      <td>married</td>\n",
       "      <td>49620</td>\n",
       "      <td>Midwest</td>\n",
       "    </tr>\n",
       "    <tr>\n",
       "      <th>4</th>\n",
       "      <td>1000</td>\n",
       "      <td>Apricots</td>\n",
       "      <td>18</td>\n",
       "      <td>10</td>\n",
       "      <td>12.9</td>\n",
       "      <td>505689</td>\n",
       "      <td>138</td>\n",
       "      <td>9</td>\n",
       "      <td>6</td>\n",
       "      <td>12</td>\n",
       "      <td>...</td>\n",
       "      <td>30.0</td>\n",
       "      <td>Non frequent customer</td>\n",
       "      <td>Male</td>\n",
       "      <td>Minnesota</td>\n",
       "      <td>81</td>\n",
       "      <td>8/1/2019</td>\n",
       "      <td>1</td>\n",
       "      <td>married</td>\n",
       "      <td>49620</td>\n",
       "      <td>Midwest</td>\n",
       "    </tr>\n",
       "  </tbody>\n",
       "</table>\n",
       "<p>5 rows × 33 columns</p>\n",
       "</div>"
      ],
      "text/plain": [
       "   product_id                product_name  aisle_id  department_id  prices  \\\n",
       "0           1  Chocolate Sandwich Cookies        61             19     5.8   \n",
       "1           1  Chocolate Sandwich Cookies        61             19     5.8   \n",
       "2         907        Premium Sliced Bacon       106             12    20.0   \n",
       "3         907        Premium Sliced Bacon       106             12    20.0   \n",
       "4        1000                    Apricots        18             10    12.9   \n",
       "\n",
       "   order_id  user_id  order_number  orders_day_of_week  orders_timing_in_day  \\\n",
       "0   3139998      138            28                   6                    11   \n",
       "1   1977647      138            30                   6                    17   \n",
       "2   3160996      138             1                   5                    13   \n",
       "3   2254091      138            10                   5                    14   \n",
       "4    505689      138             9                   6                    12   \n",
       "\n",
       "   ...  median_days_prior_order         frequency_flag  Gender      State Age  \\\n",
       "0  ...                     30.0  Non frequent customer    Male  Minnesota  81   \n",
       "1  ...                     30.0  Non frequent customer    Male  Minnesota  81   \n",
       "2  ...                     30.0  Non frequent customer    Male  Minnesota  81   \n",
       "3  ...                     30.0  Non frequent customer    Male  Minnesota  81   \n",
       "4  ...                     30.0  Non frequent customer    Male  Minnesota  81   \n",
       "\n",
       "  date_joined No of dependants fam_status income   Region  \n",
       "0    8/1/2019                1    married  49620  Midwest  \n",
       "1    8/1/2019                1    married  49620  Midwest  \n",
       "2    8/1/2019                1    married  49620  Midwest  \n",
       "3    8/1/2019                1    married  49620  Midwest  \n",
       "4    8/1/2019                1    married  49620  Midwest  \n",
       "\n",
       "[5 rows x 33 columns]"
      ]
     },
     "execution_count": 13,
     "metadata": {},
     "output_type": "execute_result"
    }
   ],
   "source": [
    "df.head()"
   ]
  },
  {
   "cell_type": "code",
   "execution_count": 14,
   "id": "54a0ee1d",
   "metadata": {},
   "outputs": [
    {
     "name": "stdout",
     "output_type": "stream",
     "text": [
      "Both columns are the same\n"
     ]
    }
   ],
   "source": [
    "# comparing the total of column \"Region\" based on \"State\"\n",
    "state_counts = df['State'].value_counts().sum()\n",
    "region_counts = df['Region'].value_counts().sum()\n",
    "if state_counts == region_counts:\n",
    "    print(\"Both columns are the same\")\n",
    "else:\n",
    "    print(\"Recheck\")"
   ]
  },
  {
   "cell_type": "markdown",
   "id": "8bca244a",
   "metadata": {},
   "source": [
    "# Checking for the spending habits in different regions"
   ]
  },
  {
   "cell_type": "code",
   "execution_count": 15,
   "id": "d767b90f",
   "metadata": {},
   "outputs": [],
   "source": [
    "#To confirm the hypothesis creating a crosstab for spending flag\n",
    "crosstab_Spending_Region = pd.crosstab(df['Region'], df['spending_flag'], dropna = False)\n"
   ]
  },
  {
   "cell_type": "code",
   "execution_count": 16,
   "id": "0a6f099d",
   "metadata": {},
   "outputs": [
    {
     "data": {
      "text/html": [
       "<div>\n",
       "<style scoped>\n",
       "    .dataframe tbody tr th:only-of-type {\n",
       "        vertical-align: middle;\n",
       "    }\n",
       "\n",
       "    .dataframe tbody tr th {\n",
       "        vertical-align: top;\n",
       "    }\n",
       "\n",
       "    .dataframe thead th {\n",
       "        text-align: right;\n",
       "    }\n",
       "</style>\n",
       "<table border=\"1\" class=\"dataframe\">\n",
       "  <thead>\n",
       "    <tr style=\"text-align: right;\">\n",
       "      <th>spending_flag</th>\n",
       "      <th>High spender</th>\n",
       "      <th>Low spender</th>\n",
       "    </tr>\n",
       "    <tr>\n",
       "      <th>Region</th>\n",
       "      <th></th>\n",
       "      <th></th>\n",
       "    </tr>\n",
       "  </thead>\n",
       "  <tbody>\n",
       "    <tr>\n",
       "      <th>Midwest</th>\n",
       "      <td>7589534</td>\n",
       "      <td>7791</td>\n",
       "    </tr>\n",
       "    <tr>\n",
       "      <th>Northeast</th>\n",
       "      <td>5717129</td>\n",
       "      <td>5607</td>\n",
       "    </tr>\n",
       "    <tr>\n",
       "      <th>South</th>\n",
       "      <td>10781873</td>\n",
       "      <td>10012</td>\n",
       "    </tr>\n",
       "    <tr>\n",
       "      <th>West</th>\n",
       "      <td>8284425</td>\n",
       "      <td>8488</td>\n",
       "    </tr>\n",
       "  </tbody>\n",
       "</table>\n",
       "</div>"
      ],
      "text/plain": [
       "spending_flag  High spender  Low spender\n",
       "Region                                  \n",
       "Midwest             7589534         7791\n",
       "Northeast           5717129         5607\n",
       "South              10781873        10012\n",
       "West                8284425         8488"
      ]
     },
     "execution_count": 16,
     "metadata": {},
     "output_type": "execute_result"
    }
   ],
   "source": [
    "crosstab_Spending_Region"
   ]
  },
  {
   "cell_type": "code",
   "execution_count": 17,
   "id": "9b63397e",
   "metadata": {},
   "outputs": [
    {
     "data": {
      "text/plain": [
       "Text(0, 0.5, 'Average price in USD')"
      ]
     },
     "execution_count": 17,
     "metadata": {},
     "output_type": "execute_result"
    },
    {
     "data": {
      "image/png": "[encoded data removed]",
      "text/plain": [
       "<Figure size 640x480 with 1 Axes>"
      ]
     },
     "metadata": {},
     "output_type": "display_data"
    }
   ],
   "source": [
    "Region = df['Region'].value_counts().plot.bar()\n",
    "plt.title('Spending based on region')\n",
    "plt.ylabel('Average price in USD')"
   ]
  },
  {
   "cell_type": "markdown",
   "id": "149ff182",
   "metadata": {},
   "source": [
    "From the bar chart is very clear the highest count of low spenders are from South Region."
   ]
  },
  {
   "cell_type": "code",
   "execution_count": 18,
   "id": "dfaafc2a",
   "metadata": {},
   "outputs": [],
   "source": [
    "#Exporting the 'Customers_orders_Updated'\n",
    "df.to_pickle(os.path.join(path,'02 Data', 'Prepared Data','customers_orders_Updated.pkl'))"
   ]
  },
  {
   "cell_type": "code",
   "execution_count": 19,
   "id": "be03db49",
   "metadata": {},
   "outputs": [],
   "source": [
    "# exporting the vizualization\n",
    "Region.figure.savefig(os.path.join(path,'04 Analysis','Visualizations','Region.png'))"
   ]
  },
  {
   "cell_type": "code",
   "execution_count": null,
   "id": "448e7e08",
   "metadata": {},
   "outputs": [],
   "source": []
  }
 ],
 "metadata": {
  "kernelspec": {
   "display_name": "Python 3 (ipykernel)",
   "language": "python",
   "name": "python3"
  },
  "language_info": {
   "codemirror_mode": {
    "name": "ipython",
    "version": 3
   },
   "file_extension": ".py",
   "mimetype": "text/x-python",
   "name": "python",
   "nbconvert_exporter": "python",
   "pygments_lexer": "ipython3",
   "version": "3.10.9"
  }
 },
 "nbformat": 4,
 "nbformat_minor": 5
}
